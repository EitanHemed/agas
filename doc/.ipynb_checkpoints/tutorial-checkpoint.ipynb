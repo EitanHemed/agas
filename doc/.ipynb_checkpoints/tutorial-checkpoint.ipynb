{
 "cells": [
  {
   "cell_type": "markdown",
   "id": "3b8f789b",
   "metadata": {},
   "source": [
    "# Agas"
   ]
  },
  {
   "cell_type": "markdown",
   "id": "1184b856",
   "metadata": {},
   "source": [
    "## Tutotial"
   ]
  },
  {
   "cell_type": "code",
   "execution_count": 4,
   "id": "7ba0dbb5",
   "metadata": {},
   "outputs": [],
   "source": [
    "import pandas as pd\n",
    "import numpy as np\n",
    "import matplotlib.pyplot as plt\n",
    "import agas"
   ]
  },
  {
   "cell_type": "code",
   "execution_count": 35,
   "id": "ad891322",
   "metadata": {},
   "outputs": [],
   "source": [
    "A = np.vstack([\n",
    "    [1, 1, 1, 0],\n",
    "    [1, 2, 3, 5],\n",
    "    [6, 9, 9, 9],\n",
    "    [8, 9, 10, 11]])\n",
    "\n",
    "MX = np.median\n",
    "MN = np.std"
   ]
  },
  {
   "cell_type": "code",
   "execution_count": 46,
   "id": "51082dbf",
   "metadata": {},
   "outputs": [
    {
     "name": "stderr",
     "output_type": "stream",
     "text": [
      "c:\\users\\eitan hemed\\onedrive - university of haifa\\phd\\python_projects\\agas\\agas\\_from_numpy.py:231: RuntimeWarning: divide by zero encountered in reciprocal\n",
      "  np.reciprocal(minimize_similarity_array) * minimize_weight\n"
     ]
    },
    {
     "data": {
      "text/plain": [
       "array([[1, 2, 3, 5],\n",
       "       [6, 9, 9, 9]])"
      ]
     },
     "execution_count": 46,
     "metadata": {},
     "output_type": "execute_result"
    }
   ],
   "source": [
    "agas.pair_from_array(A, np.median, np.median, 0.9, return_type='values')"
   ]
  },
  {
   "cell_type": "code",
   "execution_count": 47,
   "id": "e8242251",
   "metadata": {},
   "outputs": [
    {
     "data": {
      "text/plain": [
       "array([[ 1,  1,  1,  0],\n",
       "       [ 8,  9, 10, 11]])"
      ]
     },
     "execution_count": 47,
     "metadata": {},
     "output_type": "execute_result"
    }
   ],
   "source": [
    "agas.pair_from_array(A, np.median, np.median, 0.1, return_type='values')"
   ]
  },
  {
   "cell_type": "code",
   "execution_count": 41,
   "id": "0b5a4a6f",
   "metadata": {},
   "outputs": [
    {
     "data": {
      "text/plain": [
       "array([[1, 1, 1, 0],\n",
       "       [1, 2, 3, 5]])"
      ]
     },
     "execution_count": 41,
     "metadata": {},
     "output_type": "execute_result"
    }
   ],
   "source": [
    "agas.pair_from_array(A, MX, MN, 0.1, return_type='values')"
   ]
  },
  {
   "cell_type": "markdown",
   "id": "1ff8ae01",
   "metadata": {},
   "source": [
    "## Algorithm "
   ]
  },
  {
   "cell_type": "markdown",
   "id": "75fb2e68",
   "metadata": {},
   "source": [
    "Finding the optimal pair is composed of several steps. The logic is demonstrated here usign a simple example. \n",
    "\n",
    "0. Definitions\n",
    "\n",
    "Let `A` be a matrix of size N X T. Here `A` is a 4 x 4 matrix.\n",
    "\n",
    "$$ A = \\begin{pmatrix} \\\\ 1 & 1 & 1 & 0 \\\\ \n",
    "    1 & 2 & 3 & 4 \\\\  9 & 9 & 9 & 9\\\\ 8 & 9 & 10 & 11\n",
    "    \\end{pmatrix}$$\n",
    "    \n",
    "Let `MX` and `MN` be two functions which given a vector produce a scaler. Here `MX` is the population standard deviation\n",
    "\n",
    "\\begin{equation}\n",
    "\\sigma = \\sqrt\\frac{\\sum{(X-\\mu)^2}}{N}\n",
    "\\end{equation}  \n",
    "\n",
    "and `MN` is the median\n",
    "\n",
    "\\begin{cases}\n",
    "  x_\\frac{n+1}{2}                                    & n\\text{ odd}\\\\\n",
    "  \\frac {1}{2}\\left(x_{\\frac{n}{2}} + x_{\\frac{n}{2} + 1}\\right) & n \\text{ even}\n",
    "\\end{cases}\n",
    "\n"
   ]
  }
 ],
 "metadata": {
  "kernelspec": {
   "display_name": "Python 3 (ipykernel)",
   "language": "python",
   "name": "python3"
  },
  "language_info": {
   "codemirror_mode": {
    "name": "ipython",
    "version": 3
   },
   "file_extension": ".py",
   "mimetype": "text/x-python",
   "name": "python",
   "nbconvert_exporter": "python",
   "pygments_lexer": "ipython3",
   "version": "3.9.13"
  },
  "toc": {
   "base_numbering": 1,
   "nav_menu": {},
   "number_sections": true,
   "sideBar": true,
   "skip_h1_title": false,
   "title_cell": "Table of Contents",
   "title_sidebar": "Contents",
   "toc_cell": false,
   "toc_position": {},
   "toc_section_display": true,
   "toc_window_display": false
  }
 },
 "nbformat": 4,
 "nbformat_minor": 5
}
