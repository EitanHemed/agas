{
 "cells": [
  {
   "cell_type": "markdown",
   "source": [
    "[![fury.io](https://badge.fury.io/py/agas.svg)](https://badge.fury.io/py/agas) [![shields.io](https://img.shields.io/github/license/EitanHemed/agas.svg)](https://github.com/EitanHemed/agas/blob/main/LICENSE) [![pepy.tech](https://pepy.tech/badge/agas/month)](https://pepy.tech/badge/agas/month) [![codecov.io](https://codecov.io/gh/EitanHemed/agas/branch/main/graph/badge.svg)](https://app.codecov.io/gh/EitanHemed/agas)"
   ],
   "metadata": {
    "collapsed": false,
    "pycharm": {
     "name": "#%% md\n"
    }
   },
   "outputs": [
    {
     "ename": "SyntaxError",
     "evalue": "invalid syntax (4257595946.py, line 1)",
     "output_type": "error",
     "traceback": [
      "\u001B[1;36m  Input \u001B[1;32mIn [1]\u001B[1;36m\u001B[0m\n\u001B[1;33m    [![Foo](http://www.google.com.au/images/nav_logo7.png)](http://google.com.au/)\u001B[0m\n\u001B[1;37m     ^\u001B[0m\n\u001B[1;31mSyntaxError\u001B[0m\u001B[1;31m:\u001B[0m invalid syntax\n"
     ]
    }
   ],
   "execution_count": 1
  },
  {
   "cell_type": "markdown",
   "source": [
    "## Agas\n",
    "Agas is a small Python library for pairing similar (or dissimilar) data series.\n",
    "\n",
    "Often when you have data from multiple units (e.g., participants, sensors) you need to find similar pairs of units such as two units which have similar variance relative to the rest of the sample, or perhaps units which are similar on one criteria and different on another (maximize on mean and minimize similarity on the sum of values).\n",
    "\n",
    "Agas allows you to test the matching of all possible pairs flexibly.\n",
    "\n",
    "The name Agas is abbreviation for aggregated-series. Also, 'Agas' is\n",
    "Hebrew for 'Pear'."
   ],
   "metadata": {
    "collapsed": false,
    "pycharm": {
     "name": "#%% md\n"
    }
   }
  },
  {
   "cell_type": "markdown",
   "source": [
    "#### Setup and requirements\n",
    "\n",
    "`pip install agas`, Conda package coming soon!\n",
    "\n",
    "The requirements are just NumPy and Pandas. The examples on the tutorial require additional pacakges."
   ],
   "metadata": {
    "collapsed": false,
    "pycharm": {
     "name": "#%% md\n"
    }
   }
  },
  {
   "cell_type": "markdown",
   "source": [
    "#### Usage\n",
    "\n",
    "`agas` 0.0.1 exposes the functions `agas.pair_from_array` and `agas.pair_from_wide_df`. For more details please refer to the API [reference](github.io/EitanHemed/agas/api).\n"
   ],
   "metadata": {
    "collapsed": false,
    "pycharm": {
     "name": "#%% md\n"
    }
   }
  },
  {
   "cell_type": "code",
   "execution_count": 69,
   "outputs": [],
   "source": [
    "import numpy as np\n",
    "import seaborn as sns\n",
    "import pandas as pd\n",
    "\n",
    "pd.set_option('display.precision', 2)\n",
    "pd.set_option(\"display.max_columns\", 5)\n",
    "\n",
    "np.set_printoptions(precision=3)\n",
    "\n",
    "sns.set_context('notebook')\n",
    "\n",
    "import agas"
   ],
   "metadata": {
    "collapsed": false,
    "pycharm": {
     "name": "#%%\n"
    }
   }
  },
  {
   "cell_type": "markdown",
   "source": [
    "Given the 2D array `a`, find rows which have the most similar standard deviation values, and the most different total sums."
   ],
   "metadata": {
    "collapsed": false,
    "pycharm": {
     "name": "#%% md\n"
    }
   }
  },
  {
   "cell_type": "code",
   "execution_count": 70,
   "outputs": [],
   "source": [
    "a = np.vstack([[0, 0.5], [0.5, 0.5], [5, 5], [4, 10]])"
   ],
   "metadata": {
    "collapsed": false,
    "pycharm": {
     "name": "#%%\n"
    }
   }
  },
  {
   "cell_type": "code",
   "execution_count": 71,
   "outputs": [
    {
     "data": {
      "text/plain": "array([[ 0.25,  0.5 ],\n       [ 0.  ,  1.  ],\n       [ 0.  , 10.  ],\n       [ 3.  , 14.  ]])"
     },
     "execution_count": 71,
     "metadata": {},
     "output_type": "execute_result"
    }
   ],
   "source": [
    "np.stack([a.std(axis=1), a.sum(axis=1)], axis=1)"
   ],
   "metadata": {
    "collapsed": false,
    "pycharm": {
     "name": "#%%\n"
    }
   }
  },
  {
   "cell_type": "markdown",
   "source": [
    "It is easy to see that the optimal pair of rows in this case is the 2nd and 3rd rows.\n",
    "\n",
    "By deafult Agas returns only the optimal pair (see below for more options).\n",
    "`indices` represents the indices of the pair of optimal rows, `scores` represents the optimal score (0)."
   ],
   "metadata": {
    "collapsed": false,
    "pycharm": {
     "name": "#%% md\n"
    }
   }
  },
  {
   "cell_type": "code",
   "execution_count": 72,
   "outputs": [
    {
     "name": "stdout",
     "output_type": "stream",
     "text": [
      "[1 2]\n",
      "[0.]\n"
     ]
    }
   ],
   "source": [
    "indices, scores = agas.pair_from_array(a, similarity_function=np.std, divergence_function=np.sum)\n",
    "print(indices)\n",
    "print(scores)"
   ],
   "metadata": {
    "collapsed": false,
    "pycharm": {
     "name": "#%%\n"
    }
   }
  },
  {
   "cell_type": "markdown",
   "source": [
    "If we care more about divergence in sum of each row, we can decrease the weight given to\n",
    "the similarity function, here `np.std`. This is done by using the `similarity_weight` argument (defaults to 0.5)."
   ],
   "metadata": {
    "collapsed": false,
    "pycharm": {
     "name": "#%% md\n"
    }
   }
  },
  {
   "cell_type": "code",
   "execution_count": 73,
   "outputs": [
    {
     "name": "stdout",
     "output_type": "stream",
     "text": [
      "[0 2]\n"
     ]
    }
   ],
   "source": [
    "indices, _ = agas.pair_from_array(a, similarity_function=np.std, divergence_function=np.sum,\n",
    "                                  similarity_weight=0.3)\n",
    "print(indices)"
   ],
   "metadata": {
    "collapsed": false,
    "pycharm": {
     "name": "#%%\n"
    }
   }
  },
  {
   "cell_type": "markdown",
   "source": [
    "You can view the optimality scores assigned to each of the pairs, using the `return_matrix` argument.\n",
    "The pairing of the 1st and 3rd rows [0, 2] receives the score 0, which is most optimal.\n",
    "\n",
    "The diagonal is empty as the matching of a row with itself is not calculated by `Agas`.\n"
   ],
   "metadata": {
    "collapsed": false,
    "pycharm": {
     "name": "#%% md\n"
    }
   }
  },
  {
   "cell_type": "code",
   "execution_count": 74,
   "outputs": [
    {
     "data": {
      "text/plain": "<AxesSubplot:>"
     },
     "execution_count": 74,
     "metadata": {},
     "output_type": "execute_result"
    },
    {
     "data": {
      "text/plain": "<Figure size 432x288 with 2 Axes>",
      "image/png": "[encoded data removed]"
     },
     "metadata": {
      "needs_background": "light"
     },
     "output_type": "display_data"
    }
   ],
   "source": [
    "sns.heatmap(\n",
    "    agas.pair_from_array(\n",
    "        a, similarity_function=np.std,\n",
    "          divergence_function=np.sum,\n",
    "          similarity_weight=0.3, return_matrix=True),\n",
    "    annot=True)"
   ],
   "metadata": {
    "collapsed": false,
    "pycharm": {
     "name": "#%%\n"
    }
   }
  },
  {
   "cell_type": "markdown",
   "source": [
    "`agas.pair_from_wide_df` can be used to find the optimal pair of rows given a dataframe."
   ],
   "metadata": {
    "collapsed": false,
    "pycharm": {
     "name": "#%% md\n"
    }
   }
  },
  {
   "cell_type": "code",
   "execution_count": 77,
   "outputs": [
    {
     "name": "stdout",
     "output_type": "stream",
     "text": [
      "     Y1    Y2    Y3     Y4\n",
      "A  0.00  0.50   5.0    4.0\n",
      "B  0.50  0.50   5.0   10.0\n",
      "C  0.00  0.25  25.0   16.0\n",
      "D  0.25  0.25  25.0  100.0\n"
     ]
    }
   ],
   "source": [
    "wide_df = pd.DataFrame(np.hstack([a, a ** 2]),\n",
    "                  columns=['A', 'B', 'C', 'D'],\n",
    "                  index=['Y1', 'Y2', 'Y3', 'Y4']).T\n",
    "print(wide_df)"
   ],
   "metadata": {
    "collapsed": false,
    "pycharm": {
     "name": "#%%\n"
    }
   }
  },
  {
   "cell_type": "markdown",
   "source": [
    "On both `pair_from_wide_df` and `pair_from_array` we can use the `return_filter` argument to receive pairs with scores\n",
    "within a set range. The default is to only return the first value, here we ask only for scores lower than .7."
   ],
   "metadata": {
    "collapsed": false,
    "pycharm": {
     "name": "#%% md\n"
    }
   }
  },
  {
   "cell_type": "code",
   "execution_count": 86,
   "outputs": [
    {
     "name": "stdout",
     "output_type": "stream",
     "text": [
      "Indices of of rows with optimality scores below .7 - \n",
      "[[2 3]\n",
      " [1 3]\n",
      " [0 1]\n",
      " [0 3]]\n",
      "Matching scores  - [0.    0.486 0.514 0.514]\n"
     ]
    }
   ],
   "source": [
    "indices, scores = agas.pair_from_wide_df(wide_df, np.mean, np.max,\n",
    "                                         return_filter=0.7)\n",
    "print(f'Indices of of rows with optimality scores below .7 - \\n{indices}')\n",
    "print(f'Matching scores  - {scores}')"
   ],
   "metadata": {
    "collapsed": false,
    "pycharm": {
     "name": "#%%\n"
    }
   }
  },
  {
   "cell_type": "markdown",
   "source": [
    "Selecting the optimal pair of rows - similar means, different maximal values:"
   ],
   "metadata": {
    "collapsed": false,
    "pycharm": {
     "name": "#%% md\n"
    }
   }
  },
  {
   "cell_type": "code",
   "execution_count": 93,
   "outputs": [
    {
     "name": "stdout",
     "output_type": "stream",
     "text": [
      "Aggregated: \n",
      "\n",
      "|    |    mean |   amax |\n",
      "|:---|--------:|-------:|\n",
      "| A  |  2.375  |      5 |\n",
      "| B  |  4      |     10 |\n",
      "| C  | 10.3125 |     25 |\n",
      "| D  | 31.375  |    100 |\n",
      "\n",
      "Optimal pair (raw): \n",
      "\n",
      "|    |   Y1 |   Y2 |   Y3 |   Y4 |\n",
      "|:---|-----:|-----:|-----:|-----:|\n",
      "| C  | 0    | 0.25 |   25 |   16 |\n",
      "| D  | 0.25 | 0.25 |   25 |  100 |\n"
     ]
    }
   ],
   "source": [
    "print(\n",
    "    \"Aggregated: \",\n",
    "    wide_df.agg([np.mean, np.max], axis=1).to_markdown(),\n",
    "    \"Optimal pair (raw): \",\n",
    "      wide_df.iloc[indices[0], :].to_markdown(),\n",
    "    sep='\\n\\n')\n"
   ],
   "metadata": {
    "collapsed": false,
    "pycharm": {
     "name": "#%%\n"
    }
   }
  },
  {
   "cell_type": "markdown",
   "source": [
    "\n",
    "\n",
    "for more examples see the [tutorial](github.io/EitanHemed/agas/tutorial)."
   ],
   "metadata": {
    "collapsed": false
   }
  },
  {
   "cell_type": "markdown",
   "source": [
    "\n",
    "\n",
    "#### Documentation\n",
    "See [Here](github.io/EitanHemed/agas).\n",
    "\n",
    "\n",
    "#### Bug reports\n",
    "Please open an [issue](https://github.com/EitanHemed/agas/issues) on GitHub."
   ],
   "metadata": {
    "collapsed": false,
    "pycharm": {
     "name": "#%% md\n"
    }
   }
  }
 ],
 "metadata": {
  "kernelspec": {
   "display_name": "Python 3 (ipykernel)",
   "language": "python",
   "name": "python3"
  },
  "language_info": {
   "codemirror_mode": {
    "name": "ipython",
    "version": 3
   },
   "file_extension": ".py",
   "mimetype": "text/x-python",
   "name": "python",
   "nbconvert_exporter": "python",
   "pygments_lexer": "ipython3",
   "version": "3.9.13"
  },
  "toc": {
   "base_numbering": 1,
   "nav_menu": {},
   "number_sections": true,
   "sideBar": true,
   "skip_h1_title": false,
   "title_cell": "Table of Contents",
   "title_sidebar": "Contents",
   "toc_cell": false,
   "toc_position": {},
   "toc_section_display": true,
   "toc_window_display": false
  }
 },
 "nbformat": 4,
 "nbformat_minor": 5
}